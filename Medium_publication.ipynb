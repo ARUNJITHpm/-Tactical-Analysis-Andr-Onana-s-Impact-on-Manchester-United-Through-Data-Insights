{
 "cells": [
  {
   "cell_type": "markdown",
   "id": "eeb21a7d",
   "metadata": {},
   "source": [
    "<!-- Styling for the main heading -->\n",
    "<h1 style=\"color: red; text-align: center;\">Tactical Analysis by: The Modern Ball-Playing Goalkeeper: How André Onana Could Elevate Manchester United</h1>\n",
    "\n",
    "<!-- Styling for the subheading -->\n",
    "<h2 style=\"color: red; text-align: center;\">Unlocking the Power of Passing: A Comprehensive PCA and Clustering Analysis of Goalkeeper Impact on Team Performance</h2>\n"
   ]
  },
  {
   "cell_type": "markdown",
   "id": "5b65a510",
   "metadata": {},
   "source": [
    "### Importing required librarys"
   ]
  },
  {
   "cell_type": "code",
   "execution_count": 1,
   "id": "97dd4967",
   "metadata": {},
   "outputs": [
    {
     "ename": "NameError",
     "evalue": "name 'warnings' is not defined",
     "output_type": "error",
     "traceback": [
      "\u001b[1;31m---------------------------------------------------------------------------\u001b[0m",
      "\u001b[1;31mNameError\u001b[0m                                 Traceback (most recent call last)",
      "Cell \u001b[1;32mIn[1], line 3\u001b[0m\n\u001b[0;32m      1\u001b[0m \u001b[38;5;28;01mimport\u001b[39;00m \u001b[38;5;21;01mpandas\u001b[39;00m \u001b[38;5;28;01mas\u001b[39;00m \u001b[38;5;21;01mpd\u001b[39;00m\n\u001b[0;32m      2\u001b[0m \u001b[38;5;28;01mimport\u001b[39;00m \u001b[38;5;21;01mnumpy\u001b[39;00m \u001b[38;5;28;01mas\u001b[39;00m \u001b[38;5;21;01mnp\u001b[39;00m\n\u001b[1;32m----> 3\u001b[0m warnings\u001b[38;5;241m.\u001b[39mfilterwarnings(\u001b[38;5;124m\"\u001b[39m\u001b[38;5;124mignore\u001b[39m\u001b[38;5;124m\"\u001b[39m)\n",
      "\u001b[1;31mNameError\u001b[0m: name 'warnings' is not defined"
     ]
    }
   ],
   "source": [
    "import pandas as pd\n",
    "import numpy as np\n",
    "warnings.filterwarnings(\"ignore\")"
   ]
  },
  {
   "cell_type": "code",
   "execution_count": null,
   "id": "a44c22e5",
   "metadata": {},
   "outputs": [],
   "source": [
    "df= pd.read_csv('Top5leaguepassstats2021-22.csv')\n",
    "df"
   ]
  },
  {
   "cell_type": "code",
   "execution_count": null,
   "id": "585d4e8b",
   "metadata": {},
   "outputs": [],
   "source": [
    "df.info()"
   ]
  },
  {
   "cell_type": "markdown",
   "id": "7d421fcd",
   "metadata": {},
   "source": [
    "### Taking club's league position from another data"
   ]
  },
  {
   "cell_type": "code",
   "execution_count": null,
   "id": "63f195ea",
   "metadata": {},
   "outputs": [],
   "source": [
    "standings=pd.read_excel('top5league_stats.xlsx')\n",
    "standings=standings.iloc[126:224,:]\n",
    "standings"
   ]
  },
  {
   "cell_type": "code",
   "execution_count": null,
   "id": "75fa04df",
   "metadata": {},
   "outputs": [],
   "source": [
    "data=standings.reset_index(drop=True)\n",
    "l=['Rk','Squad','Country','LgRk','MP','W','D','L','GF','GA','GD','Pts','Pts/MP','xG','xGA','xGD','xGD/90','Attendance','Top Team Scorer','Goalkeeper']\n",
    "data.columns=l\n",
    "data"
   ]
  },
  {
   "cell_type": "code",
   "execution_count": null,
   "id": "0252c1b5",
   "metadata": {},
   "outputs": [],
   "source": [
    "# converting numarical coloumns to float \n",
    "x=['LgRk','MP','W','D','L','GF','GA','GD','Pts','Pts/MP','xG','xGA','xGD','xGD/90','Attendance']\n",
    "for i in x:\n",
    "    data[i]=data[i].astype('float')\n",
    "    data[i]=data[i].round(decimals=2)"
   ]
  },
  {
   "cell_type": "code",
   "execution_count": null,
   "id": "38aa3870",
   "metadata": {},
   "outputs": [],
   "source": [
    "# convert stats per 90 min\n",
    "x=[ 'Total_Cmp',\n",
    "       'Total_Att', 'TotDist', 'Total_PrgDist', 'short_Cmp', 'short_Att', 'medium_Cmp', 'medium_Att',\n",
    "        'long_Cmp', 'long_Att', 'Assist', 'xAG', 'xA', 'A-xAG', 'KeyPass', '1/3',\n",
    "       'PPA', 'CrsPA', 'PrgP']\n",
    "\n",
    "for i in x:\n",
    "    df[i]=df[i]/df['90s']"
   ]
  },
  {
   "cell_type": "code",
   "execution_count": null,
   "id": "3de94aab",
   "metadata": {},
   "outputs": [],
   "source": [
    "data['Squad'] = data['Squad'].str.replace('Club Crest ', '')\n",
    "data['Squad'].nunique()\n",
    "\n"
   ]
  },
  {
   "cell_type": "code",
   "execution_count": null,
   "id": "4b5a8b44",
   "metadata": {},
   "outputs": [],
   "source": [
    "df['Squad'].nunique()"
   ]
  },
  {
   "cell_type": "code",
   "execution_count": null,
   "id": "571abcc2",
   "metadata": {},
   "outputs": [],
   "source": [
    "# concating df with league position\n",
    "\n",
    "x=data[['Squad','LgRk']]\n",
    "merged_df = pd.merge(df, x, on='Squad',how='left')\n",
    "\n",
    "merged_df"
   ]
  },
  {
   "cell_type": "code",
   "execution_count": null,
   "id": "6a6b86e0",
   "metadata": {},
   "outputs": [],
   "source": [
    "# Taking GK data\n",
    "gk=merged_df[merged_df['Pos']=='GK']\n",
    "gk"
   ]
  },
  {
   "cell_type": "code",
   "execution_count": null,
   "id": "74d6f512",
   "metadata": {},
   "outputs": [],
   "source": [
    "# Filtering GK Who played more than 17 games out of 38 league games\n",
    "gk=gk[gk['90s']>17]\n",
    "gk=gk.reset_index(drop=True)\n",
    "gk"
   ]
  },
  {
   "cell_type": "code",
   "execution_count": null,
   "id": "c2b94436",
   "metadata": {},
   "outputs": [],
   "source": [
    "# Filtering GK having Top6 and Bottom6 position in league table\n",
    "gk['LgRk'] = gk['LgRk'].apply(pd.to_numeric, errors='coerce').round().astype(pd.Int32Dtype())\n",
    "gk\n",
    "\n",
    "# Create a boolean mask to filter the rows\n",
    "mask = (gk['LgRk'] < 7) | (gk['LgRk'] > 14)\n",
    "\n",
    "# Apply the mask to the DataFrame to remove the rows\n",
    "gk = gk[mask]\n",
    "gk"
   ]
  },
  {
   "cell_type": "code",
   "execution_count": null,
   "id": "87b20c86",
   "metadata": {},
   "outputs": [],
   "source": [
    "# Labeling GK belonging to Top6 or Bottom6 \n",
    "gk['LgRk'] = gk['LgRk'].astype('str')\n",
    "# Define a dictionary to specify replacements\n",
    "replacement_dict = {'15': 'Bottom6', '16': 'Bottom6', '17': 'Bottom6', '18': 'Bottom6', '19': 'Bottom6', '20': 'Bottom6',\n",
    "                   '1': 'Top6', '2': 'Top6', '3': 'Top6', '4': 'Top6', '5': 'Top6', '6': 'Top6',}\n",
    "\n",
    "# Use the replace method to replace values in the 'LgRk' column\n",
    "gk['LgRk'] = gk['LgRk'].replace(replacement_dict)\n",
    "gk=gk[[ 'Player', 'Nation', 'Squad', 'league', 'Age', 'Total_Cmp', 'Total_Att', 'Total_Cmp%', 'TotDist',\n",
    "       'Total_PrgDist', 'short_Cmp', 'short_Att', 'short_Cmp%', 'medium_Cmp',\n",
    "       'medium_Att', 'medium_Cmp%', 'long_Cmp', 'long_Att', 'long_Cmp%','PrgP', 'LgRk']]\n",
    "# Now, the 'LgRk' column in 'gk' DataFrame will have the specified replacements\n",
    "gk"
   ]
  },
  {
   "cell_type": "code",
   "execution_count": null,
   "id": "2ca05e0a",
   "metadata": {},
   "outputs": [],
   "source": [
    "#Removing French league from the dataset to avoid too many points from upcoming scatterplot\n",
    "top_bottom_6=gk[~gk['league'].isin( ['fr Ligue 1'])]\n",
    "top_bottom_6=top_bottom_6.reset_index()\n",
    "top_bottom_6"
   ]
  },
  {
   "cell_type": "code",
   "execution_count": null,
   "id": "debe9379",
   "metadata": {},
   "outputs": [],
   "source": [
    "top_bottom_6=top_bottom_6.drop('league',axis=1)"
   ]
  },
  {
   "cell_type": "code",
   "execution_count": null,
   "id": "d4488e1e",
   "metadata": {},
   "outputs": [],
   "source": [
    "# Identify and round columns with numeric data types\n",
    "numeric_column = top_bottom_6.select_dtypes(include=['int64', 'float64'])\n",
    "top_bottom_6[numeric_column.columns] = numeric_column.round(decimals=2)\n",
    "top_bottom_6"
   ]
  },
  {
   "cell_type": "markdown",
   "id": "d02c1cc7",
   "metadata": {},
   "source": [
    "## How Total_Cmp% vs long_Cmp% changes with each goalkeepers"
   ]
  },
  {
   "cell_type": "code",
   "execution_count": null,
   "id": "3570db50",
   "metadata": {},
   "outputs": [],
   "source": [
    "import seaborn as sns\n",
    "import matplotlib.pyplot as plt\n",
    "\n",
    "plt.figure(figsize=(15, 8))\n",
    "scatterplot = sns.scatterplot(data=top_bottom_6, x='Total_Cmp%', y='long_Cmp%', hue_order=['Squad','LgRk'])\n",
    "\n",
    "# Set the y-axis limits to the minimum value of the data\n",
    "plt.ylim(bottom=top_bottom_6['long_Cmp%'].min() - 1)\n",
    "\n",
    "# Annotate the points with squad labels\n",
    "for line in range(0, top_bottom_6.shape[0]):\n",
    "    scatterplot.text(top_bottom_6['Total_Cmp%'][line] + 0.01, top_bottom_6['long_Cmp%'][line], \n",
    "                     top_bottom_6['Squad'][line], horizontalalignment='left', \n",
    "                     size='medium', color='black', weight='semibold')\n",
    "plt.savefig('Total_Cmp%_long_Cmp%_scatterplot.png', bbox_inches='tight', pad_inches=0.05, dpi=300)\n",
    "plt.show()\n"
   ]
  },
  {
   "cell_type": "markdown",
   "id": "95c76475",
   "metadata": {},
   "source": [
    "## Check whether top6 and bottom6 clubs are diffrentiate each other"
   ]
  },
  {
   "cell_type": "code",
   "execution_count": null,
   "id": "f70d4d2d",
   "metadata": {},
   "outputs": [],
   "source": [
    "import seaborn as sns\n",
    "import matplotlib.pyplot as plt\n",
    "\n",
    "plt.figure(figsize=(15, 8))\n",
    "scatterplot = sns.scatterplot(data=top_bottom_6, x='Total_Cmp%', y='long_Cmp%', hue='LgRk')\n",
    "\n",
    "# Set the y-axis limits to the minimum value of the data\n",
    "plt.ylim(bottom=top_bottom_6['long_Cmp%'].min() - 1)\n",
    "\n",
    "# Annotate the points with squad labels\n",
    "for line in range(0, top_bottom_6.shape[0]):\n",
    "    scatterplot.text(top_bottom_6['Total_Cmp%'][line] + 0.01, top_bottom_6['long_Cmp%'][line], \n",
    "                     top_bottom_6['Squad'][line], horizontalalignment='left', \n",
    "                     size='medium', color='black', weight='semibold')\n",
    "\n",
    "plt.show()"
   ]
  },
  {
   "cell_type": "markdown",
   "id": "ff644f73",
   "metadata": {},
   "source": [
    "- We can see that Top6 and bottom6 club Goalkeepers are diffrentiated each other. But there is a mixup between the points"
   ]
  },
  {
   "cell_type": "markdown",
   "id": "8ab6cddc",
   "metadata": {},
   "source": [
    "## Let's add more features\n",
    "- If we want to include more passing-related features like 'Total_Cmp,' 'Total_Att,' 'Total_Cmp%,' 'TotDist,' 'Total_PrgDist,' 'short_Cmp,' 'short_Att,' 'short_Cmp%,' 'medium_Cmp,' 'medium_Att,' 'medium_Cmp%,' 'long_Cmp,' 'long_Att,' 'long_Cmp%,' and 'PrgP,' it can be quite complex. These variables often show strong connections and duplication because they represent hidden aspects of the data."
   ]
  },
  {
   "cell_type": "markdown",
   "id": "8328a2da",
   "metadata": {},
   "source": [
    "## In the Data Science field, a lot of techniques exist for resolving this problem and they go under the name of dimensionality reduction. Among them, the Principal Component Analysis (PCA) is probably the most famous."
   ]
  },
  {
   "cell_type": "markdown",
   "id": "05a5fc11",
   "metadata": {},
   "source": [
    "# Principal Component Analysis"
   ]
  },
  {
   "cell_type": "code",
   "execution_count": null,
   "id": "2a6cc623",
   "metadata": {},
   "outputs": [],
   "source": [
    "import numpy as np\n",
    "from sklearn.decomposition import PCA\n",
    "\n",
    "# Create or load your dataset\n",
    "# For this example, let's assume you have a DataFrame named 'df' with numeric columns\n",
    "\n",
    "# Standardize the data (optional but recommended for PCA)\n",
    "from sklearn.preprocessing import StandardScaler\n",
    "\n",
    "# Assuming you have a DataFrame named 'df' with numeric columns\n",
    "# Extract the numeric data from the DataFrame\n",
    "numeric_data = top_bottom_6.select_dtypes(include=[np.number])\n",
    "numeric_data=numeric_data[['Total_Att','Total_Cmp%', 'short_Cmp%','medium_Cmp%', 'long_Cmp%']]\n",
    "# Standardize the data (mean=0, std=1)\n",
    "scaler = StandardScaler()\n",
    "scaled_data = scaler.fit_transform(numeric_data)\n",
    "\n",
    "# Apply PCA\n",
    "n_components = 2  # Number of principal components to keep\n",
    "pca = PCA(n_components=n_components)\n",
    "principal_components = pca.fit_transform(scaled_data)\n",
    "\n",
    "# Create a DataFrame to store the principal components\n",
    "principal_df = pd.DataFrame(data=principal_components, columns=['PC1', 'PC2'],index=top_bottom_6['Squad'])  # Update column names accordingly\n",
    "principal_df"
   ]
  },
  {
   "cell_type": "code",
   "execution_count": null,
   "id": "a07ed3c5",
   "metadata": {},
   "outputs": [],
   "source": [
    "# add squad and league position to this data\n",
    "principal_df=principal_df.reset_index()\n",
    "x=top_bottom_6[['Squad','LgRk']]\n",
    "principal_df = pd.merge(principal_df, x, on='Squad',how='left')\n",
    "principal_df"
   ]
  },
  {
   "cell_type": "code",
   "execution_count": null,
   "id": "9e2ef589",
   "metadata": {},
   "outputs": [],
   "source": [
    "# Create a scatterplot with labels based on 'Squad'\n",
    "plt.figure(figsize=(15, 8))\n",
    "scatterplot = sns.scatterplot(data=principal_df, x='PC1', y='PC2', hue='LgRk')\n",
    "\n",
    "# Annotate the points with squad labels\n",
    "for line in range(0, principal_df.shape[0]):\n",
    "    scatterplot.text(principal_df['PC1'][line]+0.01, principal_df['PC2'][line], \n",
    "                     principal_df['Squad'][line], horizontalalignment='left', \n",
    "                     size='medium', color='black', weight='semibold')\n",
    "\n",
    "plt.title('PCA: Principal Component 1 vs Principal Component 2 with Squad Labels')\n",
    "plt.xlabel('Principal Component 1')\n",
    "plt.ylabel('Principal Component 2')\n",
    "plt.savefig('pcascatterplot.png', dpi=300, bbox_inches='tight')\n",
    "plt.show()\n"
   ]
  },
  {
   "cell_type": "markdown",
   "id": "933c4f0f",
   "metadata": {},
   "source": [
    "- As you can observe from the graph, The position of Inter Milan goalkeeper Onana is closer to Treble winner Manchester city goalkeeper Ederson. we obtain a clear understanding of how the ball-playing ability of goalkeepers can influence the positions of clubs in the top 6 and bottom 6, ultimately impacting team performance. However, there appears to be a mix-up in the above plot, which we will now investigate."
   ]
  },
  {
   "cell_type": "markdown",
   "id": "5d3792c3",
   "metadata": {},
   "source": [
    "## Try pca on Principle axis 1"
   ]
  },
  {
   "cell_type": "code",
   "execution_count": null,
   "id": "907edfe7",
   "metadata": {},
   "outputs": [],
   "source": [
    "# Create a scatterplot using only PC1\n",
    "plt.figure(figsize=(10, 20))\n",
    "scatterplot = plt.scatter(np.zeros_like(principal_df['PC1']),principal_df['PC1'], alpha=0.5)\n",
    "\n",
    "# Annotate the points with squad labels\n",
    "for line in range(0, principal_df.shape[0]):\n",
    "    plt.text( 0,principal_df['PC1'][line]+0.01, \n",
    "             principal_df['Squad'][line], horizontalalignment='left', \n",
    "             size='medium', color='black', weight='semibold')\n",
    "\n",
    "plt.title('Scatterplot of Principal Component 1 with Squad Labels')\n",
    "plt.xlabel('Principal Component 1')\n",
    "plt.yticks([])  # Remove the y-axis ticks and labels\n",
    "plt.show()"
   ]
  },
  {
   "cell_type": "markdown",
   "id": "fc44827d",
   "metadata": {},
   "source": [
    "## K-means clustering\n",
    "- Now, let's delve into applying K-means clustering to our PCA-transformed dataframe to distinguish between top and bottom clubs based on the ball-playing ability of goalkeepers."
   ]
  },
  {
   "cell_type": "code",
   "execution_count": null,
   "id": "f2e58eae",
   "metadata": {},
   "outputs": [],
   "source": [
    "import pandas as pd\n",
    "from sklearn.cluster import KMeans\n",
    "from sklearn.metrics import confusion_matrix\n",
    "\n",
    "# Assuming you have a DataFrame named 'principal_df' with columns 'Squad', 'LgRk', 'PC1', and 'PC2'\n",
    "\n",
    "# Create a mapping between the original 'LgRk' values and cluster labels\n",
    "cluster_mapping = {\n",
    "    'Top6': 1,     # Assign a cluster label (e.g., 1) for the 'top6' group\n",
    "    'Bottom6': 0   # Assign another cluster label (e.g., 0) for the 'bottom6' group\n",
    "}\n",
    "\n",
    "# Map the 'LgRk' values to cluster labels\n",
    "principal_df['Cluster'] = principal_df['LgRk'].map(cluster_mapping)\n",
    "\n",
    "# Perform k-means clustering with the known number of clusters (2 in this case)\n",
    "kmeans = KMeans(n_clusters=2, random_state=42)\n",
    "X = principal_df[['PC1', 'PC2']]\n",
    "principal_df['PredictedCluster'] = kmeans.fit_predict(X)\n",
    "principal_df\n"
   ]
  },
  {
   "cell_type": "code",
   "execution_count": null,
   "id": "5f69b04f",
   "metadata": {},
   "outputs": [],
   "source": [
    "# Create a scatterplot with different colors for each cluster\n",
    "plt.figure(figsize=(10, 6))\n",
    "sns.scatterplot(data=principal_df, x='PC1', y='PC2', hue='Cluster', palette='viridis', s=50)\n",
    "\n",
    "plt.xlabel('Principal Component 1 (PC1)')\n",
    "plt.ylabel('Principal Component 2 (PC2)')\n",
    "plt.title('K-Means Clustering')\n",
    "plt.legend(title='Cluster')\n",
    "plt.savefig('kmeanscatterplot.png', dpi=300, bbox_inches='tight')\n",
    "plt.show()"
   ]
  },
  {
   "cell_type": "code",
   "execution_count": null,
   "id": "6437ce38",
   "metadata": {},
   "outputs": [],
   "source": [
    "import numpy as np\n",
    "import matplotlib.pyplot as plt\n",
    "import seaborn as sns\n",
    "from matplotlib.colors import ListedColormap\n",
    "\n",
    "# Step 2: Create a scatterplot with labels based on 'Cluster'\n",
    "plt.figure(figsize=(15, 8))\n",
    "scatterplot = sns.scatterplot(x=principal_df['PC1'], y=principal_df['PC2'], hue=principal_df['Cluster'], palette='viridis')\n",
    "\n",
    "# Step 3: Create a mesh grid for background colors\n",
    "x_min, x_max = principal_df['PC1'].min() - 1, principal_df['PC1'].max() + 1\n",
    "y_min, y_max = principal_df['PC2'].min() - 1, principal_df['PC2'].max() + 1\n",
    "xx, yy = np.meshgrid(np.arange(x_min, x_max, 0.01), np.arange(y_min, y_max, 0.01))\n",
    "Z = kmeans.predict(np.c_[xx.ravel(), yy.ravel()])\n",
    "Z = Z.reshape(xx.shape)\n",
    "\n",
    "# Step 4: Create a ListedColormap for background colors\n",
    "cmap_background = ListedColormap(sns.color_palette(\"Set3\"))\n",
    "\n",
    "# Step 5: Plot the background colors using pcolormesh\n",
    "plt.pcolormesh(xx, yy, Z, cmap=cmap_background, alpha=0.1)\n",
    "\n",
    "# Step 6: Annotate the points with squad labels\n",
    "for line in range(0, principal_df.shape[0]):\n",
    "    scatterplot.text(principal_df['PC1'][line] + 0.01, principal_df['PC2'][line], \n",
    "                     principal_df['Squad'][line], horizontalalignment='left', \n",
    "                     size='medium', color='black', weight='semibold')\n",
    "\n",
    "# Step 7: Set plot titles and labels\n",
    "plt.title('PCA: Principal Component 1 vs Principal Component 2 with Cluster Labels')\n",
    "plt.xlabel('Principal Component 1')\n",
    "plt.ylabel('Principal Component 2')\n",
    "# After creating the scatterplot\n",
    "plt.savefig('scatterplot.png', dpi=300, bbox_inches='tight')\n",
    "\n",
    "plt.show()\n"
   ]
  },
  {
   "cell_type": "markdown",
   "id": "dc23c8e3",
   "metadata": {},
   "source": [
    "## lets investigate how accurate is this?"
   ]
  },
  {
   "cell_type": "code",
   "execution_count": null,
   "id": "edeba2ba",
   "metadata": {},
   "outputs": [],
   "source": [
    "# Create a confusion matrix to compare the original 'Cluster' with 'PredictedCluster'\n",
    "confusion = confusion_matrix(principal_df['Cluster'], principal_df['PredictedCluster'])\n",
    "\n",
    "# Print the confusion matrix\n",
    "print(\"Confusion Matrix:\")\n",
    "print(confusion)"
   ]
  },
  {
   "cell_type": "code",
   "execution_count": null,
   "id": "a7bee865",
   "metadata": {},
   "outputs": [],
   "source": [
    "import matplotlib.pyplot as plt\n",
    "import numpy as np\n",
    "\n",
    "# Assuming you have a confusion matrix 'conf_matrix' (a NumPy array)\n",
    "# Replace 'conf_matrix' with your actual confusion matrix\n",
    "\n",
    "# Create a figure\n",
    "plt.figure(figsize=(8, 6))\n",
    "\n",
    "# Create a heatmap of the confusion matrix\n",
    "plt.imshow(confusion, interpolation='nearest', cmap=plt.cm.plasma)\n",
    "\n",
    "# Add labels and annotations\n",
    "plt.title('Confusion Matrix')\n",
    "plt.colorbar()\n",
    "plt.xlabel('Predicted')\n",
    "plt.ylabel('Actual')\n",
    "\n",
    "# Optionally, add tick marks and labels for classes\n",
    "num_classes = len(confusion)\n",
    "plt.xticks(np.arange(num_classes))\n",
    "plt.yticks(np.arange(num_classes))\n",
    "\n",
    "# Loop over data dimensions and create text annotations\n",
    "for i in range(num_classes):\n",
    "    for j in range(num_classes):\n",
    "        plt.text(j, i, str(confusion[i, j]), horizontalalignment=\"center\", color=\"white\")\n",
    "\n",
    "# Save the confusion matrix as an image\n",
    "plt.savefig('confusion_matrix.png')\n",
    "\n",
    "# Show the confusion matrix (optional)\n",
    "plt.show()\n"
   ]
  },
  {
   "cell_type": "markdown",
   "id": "04c570ab",
   "metadata": {},
   "source": [
    "### What are the instances of false positives and false negatives in this context?"
   ]
  },
  {
   "cell_type": "markdown",
   "id": "ec6070e9",
   "metadata": {},
   "source": [
    "## False Positives: Goalkeepers from the bottom 6 predicted as top 6 clubs:\n",
    "- Sampdoria goalkeeper moved from the bottom 6 to Inter, a top 6 club.\n",
    "- Stuttgart goalkeeper transitioned from the bottom 6 to SC Freiburg, another top 6 club.\n",
    "- Stefan Ortega of Arminia, previously in the bottom 6, made a surprising move to Manchester City.\n",
    "- Hertha BSC goalkeeper, previously in the bottom 6, transferred to Union Berlin, a top 6 club.\n",
    "- Alavés goalkeeper got relegated.\n",
    "\n",
    "## False Negatives: Goalkeepers from top 6 predicted as bottom 6 clubs:\n",
    "- Betis goalkeeper, originally part of the bottom 6, remained with Betis (t6).\n",
    "- Andreas Luthe moved from Union Berlin (top 6) to a second-tier club.\n",
    "- Athletic Madrid, Arsenal, and Manchester United."
   ]
  },
  {
   "cell_type": "markdown",
   "id": "11eec128",
   "metadata": {},
   "source": [
    "- As evident from the confusion matrix, false positives (where goalkeepers from the bottom 6 were predicted as top 6 clubs) saw these goalkeepers move to top 6 clubs in the subsequent season. Conversely, false negatives (where goalkeepers from the top 6 were predicted as bottom 6 clubs) included instances such as Union Berlin's goalkeeper being sold to a second division club, Manchester United sold David De Gea, and transfer rumors surrounding Arsenal's goalkeeper despite their solid performance last season. One noteworthy outlier is Athletic Madrid's goalkeeper, Jan Oblak. Athletic Madrid, known for their defensive strategy, might explain Oblak's presence on this list."
   ]
  },
  {
   "cell_type": "markdown",
   "id": "57b6e7f0",
   "metadata": {},
   "source": [
    "# conclusion\n",
    "- It's evident that the extreme version of a modern ball-playing goalkeeper, like Onana, has the potential to make a significant impact on a club's performance. We've seen instances where goalkeepers with exceptional passing abilities have helped their teams achieve top positions in the leagues. Considering this, a move to Manchester United for a goalkeeper of Onana's caliber could be a game-changer for the club, potentially elevating their performance to new heights."
   ]
  }
 ],
 "metadata": {
  "kernelspec": {
   "display_name": "Python 3 (ipykernel)",
   "language": "python",
   "name": "python3"
  },
  "language_info": {
   "codemirror_mode": {
    "name": "ipython",
    "version": 3
   },
   "file_extension": ".py",
   "mimetype": "text/x-python",
   "name": "python",
   "nbconvert_exporter": "python",
   "pygments_lexer": "ipython3",
   "version": "3.11.4"
  }
 },
 "nbformat": 4,
 "nbformat_minor": 5
}
